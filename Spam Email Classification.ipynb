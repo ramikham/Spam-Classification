{
 "cells": [
  {
   "cell_type": "markdown",
   "id": "65bf650f",
   "metadata": {},
   "source": [
    "## Spam Email Classification"
   ]
  },
  {
   "cell_type": "markdown",
   "id": "7cb22d20",
   "metadata": {},
   "source": [
    "## 1. Problem Statement\n",
    "\n",
    "The goal of this project is to classify emails based on whether they are spam or not. I follow the strategy outline in Chapter 3 of the textbook *Hands-On Machine Learning with Scikit-Learn, Keras, and TensorFlow* (it discusses a different dataset (MNIST dataset))."
   ]
  },
  {
   "cell_type": "markdown",
   "id": "232a5e62",
   "metadata": {},
   "source": [
    "Dataset Link: https://www.kaggle.com/datasets/purusinghvi/email-spam-classification-dataset/code\n",
    "\n",
    "Here is a describtion of the dataset:\n",
    "\n",
    "**Columns**\n",
    "\n",
    "- '1' indicates that the email is classified as spam.\n",
    "- '0' denotes that the email is legitimate.\n",
    "\n",
    "**text**\n",
    "- This column contains the actual content of the email messages.\n"
   ]
  },
  {
   "cell_type": "markdown",
   "id": "8cc2588f",
   "metadata": {},
   "source": [
    "This implies that we have to somehow tokenize the text."
   ]
  },
  {
   "cell_type": "markdown",
   "id": "0deac428",
   "metadata": {},
   "source": [
    "### 1.1. Goals"
   ]
  },
  {
   "cell_type": "markdown",
   "id": "8c9cf05d",
   "metadata": {},
   "source": [
    "I train the following classifiers:\n",
    "   1. stochastic gradient descent\n",
    "   2. perceptron \n",
    "   3. decision tree\n",
    "   4. logistic regression\n",
    "   5. KNearesNeighbor\n",
    "   6. random forest"
   ]
  },
  {
   "cell_type": "markdown",
   "id": "0ab77003",
   "metadata": {},
   "source": [
    "## 2. Loading the Data"
   ]
  },
  {
   "cell_type": "code",
   "execution_count": 1,
   "id": "e519b051",
   "metadata": {},
   "outputs": [],
   "source": [
    "import pandas as pd\n",
    "import os\n",
    "\n",
    "def load_email_dataset():\n",
    "    csv_path = os.path.join(\"C:\\\\Users\\\\Rami\\\\Desktop\\\\Folders\\\\Datasets\\\\Spam\\\\combined_data.csv\")\n",
    "    return pd.read_csv(csv_path)\n"
   ]
  },
  {
   "cell_type": "code",
   "execution_count": 2,
   "id": "6cc88a7b",
   "metadata": {},
   "outputs": [
    {
     "data": {
      "text/html": [
       "<div>\n",
       "<style scoped>\n",
       "    .dataframe tbody tr th:only-of-type {\n",
       "        vertical-align: middle;\n",
       "    }\n",
       "\n",
       "    .dataframe tbody tr th {\n",
       "        vertical-align: top;\n",
       "    }\n",
       "\n",
       "    .dataframe thead th {\n",
       "        text-align: right;\n",
       "    }\n",
       "</style>\n",
       "<table border=\"1\" class=\"dataframe\">\n",
       "  <thead>\n",
       "    <tr style=\"text-align: right;\">\n",
       "      <th></th>\n",
       "      <th>label</th>\n",
       "      <th>text</th>\n",
       "    </tr>\n",
       "  </thead>\n",
       "  <tbody>\n",
       "    <tr>\n",
       "      <th>0</th>\n",
       "      <td>1</td>\n",
       "      <td>ounce feather bowl hummingbird opec moment ala...</td>\n",
       "    </tr>\n",
       "    <tr>\n",
       "      <th>1</th>\n",
       "      <td>1</td>\n",
       "      <td>wulvob get your medircations online qnb ikud v...</td>\n",
       "    </tr>\n",
       "    <tr>\n",
       "      <th>2</th>\n",
       "      <td>0</td>\n",
       "      <td>computer connection from cnn com wednesday es...</td>\n",
       "    </tr>\n",
       "    <tr>\n",
       "      <th>3</th>\n",
       "      <td>1</td>\n",
       "      <td>university degree obtain a prosperous future m...</td>\n",
       "    </tr>\n",
       "    <tr>\n",
       "      <th>4</th>\n",
       "      <td>0</td>\n",
       "      <td>thanks for all your answers guys i know i shou...</td>\n",
       "    </tr>\n",
       "    <tr>\n",
       "      <th>...</th>\n",
       "      <td>...</td>\n",
       "      <td>...</td>\n",
       "    </tr>\n",
       "    <tr>\n",
       "      <th>83443</th>\n",
       "      <td>0</td>\n",
       "      <td>hi given a date how do i get the last date of ...</td>\n",
       "    </tr>\n",
       "    <tr>\n",
       "      <th>83444</th>\n",
       "      <td>1</td>\n",
       "      <td>now you can order software on cd or download i...</td>\n",
       "    </tr>\n",
       "    <tr>\n",
       "      <th>83445</th>\n",
       "      <td>1</td>\n",
       "      <td>dear valued member canadianpharmacy provides a...</td>\n",
       "    </tr>\n",
       "    <tr>\n",
       "      <th>83446</th>\n",
       "      <td>0</td>\n",
       "      <td>subscribe change profile contact us long term ...</td>\n",
       "    </tr>\n",
       "    <tr>\n",
       "      <th>83447</th>\n",
       "      <td>1</td>\n",
       "      <td>get the most out of life ! viagra has helped m...</td>\n",
       "    </tr>\n",
       "  </tbody>\n",
       "</table>\n",
       "<p>83448 rows × 2 columns</p>\n",
       "</div>"
      ],
      "text/plain": [
       "       label                                               text\n",
       "0          1  ounce feather bowl hummingbird opec moment ala...\n",
       "1          1  wulvob get your medircations online qnb ikud v...\n",
       "2          0   computer connection from cnn com wednesday es...\n",
       "3          1  university degree obtain a prosperous future m...\n",
       "4          0  thanks for all your answers guys i know i shou...\n",
       "...      ...                                                ...\n",
       "83443      0  hi given a date how do i get the last date of ...\n",
       "83444      1  now you can order software on cd or download i...\n",
       "83445      1  dear valued member canadianpharmacy provides a...\n",
       "83446      0  subscribe change profile contact us long term ...\n",
       "83447      1  get the most out of life ! viagra has helped m...\n",
       "\n",
       "[83448 rows x 2 columns]"
      ]
     },
     "execution_count": 2,
     "metadata": {},
     "output_type": "execute_result"
    }
   ],
   "source": [
    "emails = load_email_dataset()\n",
    "emails"
   ]
  },
  {
   "cell_type": "markdown",
   "id": "6012171a",
   "metadata": {},
   "source": [
    "As we observe, the dataset has 83,448 rows. We can extract the features and the labels separately:"
   ]
  },
  {
   "cell_type": "code",
   "execution_count": 3,
   "id": "b9b272a1",
   "metadata": {},
   "outputs": [],
   "source": [
    "# Split the dataset into features (X) and labels (y)\n",
    "X = emails[\"text\"]\n",
    "y = emails[\"label\"]"
   ]
  },
  {
   "cell_type": "code",
   "execution_count": 4,
   "id": "b9f06a89",
   "metadata": {},
   "outputs": [
    {
     "data": {
      "text/plain": [
       "0        ounce feather bowl hummingbird opec moment ala...\n",
       "1        wulvob get your medircations online qnb ikud v...\n",
       "2         computer connection from cnn com wednesday es...\n",
       "3        university degree obtain a prosperous future m...\n",
       "4        thanks for all your answers guys i know i shou...\n",
       "                               ...                        \n",
       "83443    hi given a date how do i get the last date of ...\n",
       "83444    now you can order software on cd or download i...\n",
       "83445    dear valued member canadianpharmacy provides a...\n",
       "83446    subscribe change profile contact us long term ...\n",
       "83447    get the most out of life ! viagra has helped m...\n",
       "Name: text, Length: 83448, dtype: object"
      ]
     },
     "execution_count": 4,
     "metadata": {},
     "output_type": "execute_result"
    }
   ],
   "source": [
    "X"
   ]
  },
  {
   "cell_type": "markdown",
   "id": "8e6e619f",
   "metadata": {},
   "source": [
    "Let's get a single example (email) out of the dataset. We might want to use it on one of our classifiers later on."
   ]
  },
  {
   "cell_type": "code",
   "execution_count": 5,
   "id": "f5e488fd",
   "metadata": {},
   "outputs": [
    {
     "data": {
      "text/plain": [
       "'ounce feather bowl hummingbird opec moment alabaster valkyrie dyad bread flack desperate iambic hadron heft quell yoghurt bunkmate divert afterimage'"
      ]
     },
     "execution_count": 5,
     "metadata": {},
     "output_type": "execute_result"
    }
   ],
   "source": [
    "first_email = X[0]\n",
    "first_email"
   ]
  },
  {
   "cell_type": "markdown",
   "id": "239b3dc6",
   "metadata": {},
   "source": [
    "## 3. Train/Test Split"
   ]
  },
  {
   "cell_type": "code",
   "execution_count": 6,
   "id": "cbaaf3a9",
   "metadata": {},
   "outputs": [],
   "source": [
    "from sklearn.model_selection import train_test_split\n",
    "\n",
    "# Split the dataset into training and testing sets\n",
    "X_train, X_test, y_train, y_test = train_test_split(X, y, test_size=0.2)"
   ]
  },
  {
   "cell_type": "code",
   "execution_count": 7,
   "id": "16791ea0",
   "metadata": {},
   "outputs": [
    {
     "data": {
      "text/plain": [
       "25761    find the position of the first value who equal...\n",
       "32181    more enjoyable may be future post offices will...\n",
       "71893    dear valued member we just found new weight lo...\n",
       "48954    log on to e - zone that provides customers q ....\n",
       "17722    we have everything you need escapelong cialesc...\n",
       "                               ...                        \n",
       "77649    increase your cum volume , and orgasm length\\n...\n",
       "30593    gorgeous presents you may find make this clear...\n",
       "28394    the internet home of home news markets technol...\n",
       "19934    ïðåí·üµäü·¯ça ì©ªí·²­g...\n",
       "15717    dear audience during the testing stage of an x...\n",
       "Name: text, Length: 66758, dtype: object"
      ]
     },
     "execution_count": 7,
     "metadata": {},
     "output_type": "execute_result"
    }
   ],
   "source": [
    "X_train"
   ]
  },
  {
   "cell_type": "code",
   "execution_count": 8,
   "id": "cece20a9",
   "metadata": {},
   "outputs": [
    {
     "data": {
      "text/plain": [
       "25761    0\n",
       "32181    1\n",
       "71893    1\n",
       "48954    1\n",
       "17722    1\n",
       "        ..\n",
       "77649    1\n",
       "30593    1\n",
       "28394    0\n",
       "19934    1\n",
       "15717    0\n",
       "Name: label, Length: 66758, dtype: int64"
      ]
     },
     "execution_count": 8,
     "metadata": {},
     "output_type": "execute_result"
    }
   ],
   "source": [
    "y_train"
   ]
  },
  {
   "cell_type": "markdown",
   "id": "2c08e0bd",
   "metadata": {},
   "source": [
    "## 4. Data Cleaning Preprocessing and Transformation: the Pipeline"
   ]
  },
  {
   "cell_type": "markdown",
   "id": "a29a9298",
   "metadata": {},
   "source": [
    "As we discussed in our introduction, the *text* column must be tokenized.\n",
    "\n",
    "We can use scikit-learn's *CountVectorizer()* to tokenize the inpput text data. It assigns unigue values to all the words in the email and counts their orccurrences. Using this count, we model the input text.\n",
    "\n",
    "Each unique word is assigned an index value and the occurence of each of those words are used to reprent the text. \n",
    "\n",
    "When we tokenize the data using *CountVectorizer*, there is a hight probability that words such as 'a', 'the', 'an' etc could be given more importance than the actual words whete the model should concentrate on.\n",
    "\n",
    "A tf-idf transformer scales down the values of words that occur frequently among all texts. This is the **term frequency and inverse document frequency** vectorizer.\n",
    "\n",
    "We can use a Pipeline to encapsulate these ideas:"
   ]
  },
  {
   "cell_type": "code",
   "execution_count": 9,
   "id": "01890780",
   "metadata": {},
   "outputs": [],
   "source": [
    "from sklearn.pipeline import Pipeline\n",
    "from sklearn.feature_extraction.text import CountVectorizer, TfidfTransformer\n",
    "\n",
    "# Create the Pipeline with CountVectorizer, TfidfTransformer, and SGDClassifier\n",
    "pipeline = Pipeline([\n",
    "    (\"count_vectorizer\", CountVectorizer(decode_error=\"ignore\")),\n",
    "    (\"tfidf_transformer\", TfidfTransformer())\n",
    "])"
   ]
  },
  {
   "cell_type": "code",
   "execution_count": 10,
   "id": "406b0caa",
   "metadata": {},
   "outputs": [
    {
     "data": {
      "text/html": [
       "<style>#sk-container-id-1 {color: black;}#sk-container-id-1 pre{padding: 0;}#sk-container-id-1 div.sk-toggleable {background-color: white;}#sk-container-id-1 label.sk-toggleable__label {cursor: pointer;display: block;width: 100%;margin-bottom: 0;padding: 0.3em;box-sizing: border-box;text-align: center;}#sk-container-id-1 label.sk-toggleable__label-arrow:before {content: \"▸\";float: left;margin-right: 0.25em;color: #696969;}#sk-container-id-1 label.sk-toggleable__label-arrow:hover:before {color: black;}#sk-container-id-1 div.sk-estimator:hover label.sk-toggleable__label-arrow:before {color: black;}#sk-container-id-1 div.sk-toggleable__content {max-height: 0;max-width: 0;overflow: hidden;text-align: left;background-color: #f0f8ff;}#sk-container-id-1 div.sk-toggleable__content pre {margin: 0.2em;color: black;border-radius: 0.25em;background-color: #f0f8ff;}#sk-container-id-1 input.sk-toggleable__control:checked~div.sk-toggleable__content {max-height: 200px;max-width: 100%;overflow: auto;}#sk-container-id-1 input.sk-toggleable__control:checked~label.sk-toggleable__label-arrow:before {content: \"▾\";}#sk-container-id-1 div.sk-estimator input.sk-toggleable__control:checked~label.sk-toggleable__label {background-color: #d4ebff;}#sk-container-id-1 div.sk-label input.sk-toggleable__control:checked~label.sk-toggleable__label {background-color: #d4ebff;}#sk-container-id-1 input.sk-hidden--visually {border: 0;clip: rect(1px 1px 1px 1px);clip: rect(1px, 1px, 1px, 1px);height: 1px;margin: -1px;overflow: hidden;padding: 0;position: absolute;width: 1px;}#sk-container-id-1 div.sk-estimator {font-family: monospace;background-color: #f0f8ff;border: 1px dotted black;border-radius: 0.25em;box-sizing: border-box;margin-bottom: 0.5em;}#sk-container-id-1 div.sk-estimator:hover {background-color: #d4ebff;}#sk-container-id-1 div.sk-parallel-item::after {content: \"\";width: 100%;border-bottom: 1px solid gray;flex-grow: 1;}#sk-container-id-1 div.sk-label:hover label.sk-toggleable__label {background-color: #d4ebff;}#sk-container-id-1 div.sk-serial::before {content: \"\";position: absolute;border-left: 1px solid gray;box-sizing: border-box;top: 0;bottom: 0;left: 50%;z-index: 0;}#sk-container-id-1 div.sk-serial {display: flex;flex-direction: column;align-items: center;background-color: white;padding-right: 0.2em;padding-left: 0.2em;position: relative;}#sk-container-id-1 div.sk-item {position: relative;z-index: 1;}#sk-container-id-1 div.sk-parallel {display: flex;align-items: stretch;justify-content: center;background-color: white;position: relative;}#sk-container-id-1 div.sk-item::before, #sk-container-id-1 div.sk-parallel-item::before {content: \"\";position: absolute;border-left: 1px solid gray;box-sizing: border-box;top: 0;bottom: 0;left: 50%;z-index: -1;}#sk-container-id-1 div.sk-parallel-item {display: flex;flex-direction: column;z-index: 1;position: relative;background-color: white;}#sk-container-id-1 div.sk-parallel-item:first-child::after {align-self: flex-end;width: 50%;}#sk-container-id-1 div.sk-parallel-item:last-child::after {align-self: flex-start;width: 50%;}#sk-container-id-1 div.sk-parallel-item:only-child::after {width: 0;}#sk-container-id-1 div.sk-dashed-wrapped {border: 1px dashed gray;margin: 0 0.4em 0.5em 0.4em;box-sizing: border-box;padding-bottom: 0.4em;background-color: white;}#sk-container-id-1 div.sk-label label {font-family: monospace;font-weight: bold;display: inline-block;line-height: 1.2em;}#sk-container-id-1 div.sk-label-container {text-align: center;}#sk-container-id-1 div.sk-container {/* jupyter's `normalize.less` sets `[hidden] { display: none; }` but bootstrap.min.css set `[hidden] { display: none !important; }` so we also need the `!important` here to be able to override the default hidden behavior on the sphinx rendered scikit-learn.org. See: https://github.com/scikit-learn/scikit-learn/issues/21755 */display: inline-block !important;position: relative;}#sk-container-id-1 div.sk-text-repr-fallback {display: none;}</style><div id=\"sk-container-id-1\" class=\"sk-top-container\"><div class=\"sk-text-repr-fallback\"><pre>Pipeline(steps=[(&#x27;count_vectorizer&#x27;, CountVectorizer(decode_error=&#x27;ignore&#x27;)),\n",
       "                (&#x27;tfidf_transformer&#x27;, TfidfTransformer())])</pre><b>In a Jupyter environment, please rerun this cell to show the HTML representation or trust the notebook. <br />On GitHub, the HTML representation is unable to render, please try loading this page with nbviewer.org.</b></div><div class=\"sk-container\" hidden><div class=\"sk-item sk-dashed-wrapped\"><div class=\"sk-label-container\"><div class=\"sk-label sk-toggleable\"><input class=\"sk-toggleable__control sk-hidden--visually\" id=\"sk-estimator-id-1\" type=\"checkbox\" ><label for=\"sk-estimator-id-1\" class=\"sk-toggleable__label sk-toggleable__label-arrow\">Pipeline</label><div class=\"sk-toggleable__content\"><pre>Pipeline(steps=[(&#x27;count_vectorizer&#x27;, CountVectorizer(decode_error=&#x27;ignore&#x27;)),\n",
       "                (&#x27;tfidf_transformer&#x27;, TfidfTransformer())])</pre></div></div></div><div class=\"sk-serial\"><div class=\"sk-item\"><div class=\"sk-estimator sk-toggleable\"><input class=\"sk-toggleable__control sk-hidden--visually\" id=\"sk-estimator-id-2\" type=\"checkbox\" ><label for=\"sk-estimator-id-2\" class=\"sk-toggleable__label sk-toggleable__label-arrow\">CountVectorizer</label><div class=\"sk-toggleable__content\"><pre>CountVectorizer(decode_error=&#x27;ignore&#x27;)</pre></div></div></div><div class=\"sk-item\"><div class=\"sk-estimator sk-toggleable\"><input class=\"sk-toggleable__control sk-hidden--visually\" id=\"sk-estimator-id-3\" type=\"checkbox\" ><label for=\"sk-estimator-id-3\" class=\"sk-toggleable__label sk-toggleable__label-arrow\">TfidfTransformer</label><div class=\"sk-toggleable__content\"><pre>TfidfTransformer()</pre></div></div></div></div></div></div></div>"
      ],
      "text/plain": [
       "Pipeline(steps=[('count_vectorizer', CountVectorizer(decode_error='ignore')),\n",
       "                ('tfidf_transformer', TfidfTransformer())])"
      ]
     },
     "execution_count": 10,
     "metadata": {},
     "output_type": "execute_result"
    }
   ],
   "source": [
    "pipeline"
   ]
  },
  {
   "cell_type": "markdown",
   "id": "fdc32f0c",
   "metadata": {},
   "source": [
    "Now, we use the pipeline to *fit_transform* our training set."
   ]
  },
  {
   "cell_type": "code",
   "execution_count": 11,
   "id": "191d7969",
   "metadata": {},
   "outputs": [
    {
     "data": {
      "text/plain": [
       "<66758x278430 sparse matrix of type '<class 'numpy.float64'>'\n",
       "\twith 8103811 stored elements in Compressed Sparse Row format>"
      ]
     },
     "execution_count": 11,
     "metadata": {},
     "output_type": "execute_result"
    }
   ],
   "source": [
    "# Fit and transform the training data\n",
    "X_train_transformed = pipeline.fit_transform(X_train)\n",
    "X_train_transformed"
   ]
  },
  {
   "cell_type": "markdown",
   "id": "0b4fbdba",
   "metadata": {},
   "source": [
    "Now, we can use our transformed train set on any classifier. \n",
    "\n",
    "Let us start with a *stochastic gradient descent* classifier (*SGDClassifier*):"
   ]
  },
  {
   "cell_type": "code",
   "execution_count": 12,
   "id": "6ffc73b7",
   "metadata": {},
   "outputs": [
    {
     "data": {
      "text/html": [
       "<style>#sk-container-id-2 {color: black;}#sk-container-id-2 pre{padding: 0;}#sk-container-id-2 div.sk-toggleable {background-color: white;}#sk-container-id-2 label.sk-toggleable__label {cursor: pointer;display: block;width: 100%;margin-bottom: 0;padding: 0.3em;box-sizing: border-box;text-align: center;}#sk-container-id-2 label.sk-toggleable__label-arrow:before {content: \"▸\";float: left;margin-right: 0.25em;color: #696969;}#sk-container-id-2 label.sk-toggleable__label-arrow:hover:before {color: black;}#sk-container-id-2 div.sk-estimator:hover label.sk-toggleable__label-arrow:before {color: black;}#sk-container-id-2 div.sk-toggleable__content {max-height: 0;max-width: 0;overflow: hidden;text-align: left;background-color: #f0f8ff;}#sk-container-id-2 div.sk-toggleable__content pre {margin: 0.2em;color: black;border-radius: 0.25em;background-color: #f0f8ff;}#sk-container-id-2 input.sk-toggleable__control:checked~div.sk-toggleable__content {max-height: 200px;max-width: 100%;overflow: auto;}#sk-container-id-2 input.sk-toggleable__control:checked~label.sk-toggleable__label-arrow:before {content: \"▾\";}#sk-container-id-2 div.sk-estimator input.sk-toggleable__control:checked~label.sk-toggleable__label {background-color: #d4ebff;}#sk-container-id-2 div.sk-label input.sk-toggleable__control:checked~label.sk-toggleable__label {background-color: #d4ebff;}#sk-container-id-2 input.sk-hidden--visually {border: 0;clip: rect(1px 1px 1px 1px);clip: rect(1px, 1px, 1px, 1px);height: 1px;margin: -1px;overflow: hidden;padding: 0;position: absolute;width: 1px;}#sk-container-id-2 div.sk-estimator {font-family: monospace;background-color: #f0f8ff;border: 1px dotted black;border-radius: 0.25em;box-sizing: border-box;margin-bottom: 0.5em;}#sk-container-id-2 div.sk-estimator:hover {background-color: #d4ebff;}#sk-container-id-2 div.sk-parallel-item::after {content: \"\";width: 100%;border-bottom: 1px solid gray;flex-grow: 1;}#sk-container-id-2 div.sk-label:hover label.sk-toggleable__label {background-color: #d4ebff;}#sk-container-id-2 div.sk-serial::before {content: \"\";position: absolute;border-left: 1px solid gray;box-sizing: border-box;top: 0;bottom: 0;left: 50%;z-index: 0;}#sk-container-id-2 div.sk-serial {display: flex;flex-direction: column;align-items: center;background-color: white;padding-right: 0.2em;padding-left: 0.2em;position: relative;}#sk-container-id-2 div.sk-item {position: relative;z-index: 1;}#sk-container-id-2 div.sk-parallel {display: flex;align-items: stretch;justify-content: center;background-color: white;position: relative;}#sk-container-id-2 div.sk-item::before, #sk-container-id-2 div.sk-parallel-item::before {content: \"\";position: absolute;border-left: 1px solid gray;box-sizing: border-box;top: 0;bottom: 0;left: 50%;z-index: -1;}#sk-container-id-2 div.sk-parallel-item {display: flex;flex-direction: column;z-index: 1;position: relative;background-color: white;}#sk-container-id-2 div.sk-parallel-item:first-child::after {align-self: flex-end;width: 50%;}#sk-container-id-2 div.sk-parallel-item:last-child::after {align-self: flex-start;width: 50%;}#sk-container-id-2 div.sk-parallel-item:only-child::after {width: 0;}#sk-container-id-2 div.sk-dashed-wrapped {border: 1px dashed gray;margin: 0 0.4em 0.5em 0.4em;box-sizing: border-box;padding-bottom: 0.4em;background-color: white;}#sk-container-id-2 div.sk-label label {font-family: monospace;font-weight: bold;display: inline-block;line-height: 1.2em;}#sk-container-id-2 div.sk-label-container {text-align: center;}#sk-container-id-2 div.sk-container {/* jupyter's `normalize.less` sets `[hidden] { display: none; }` but bootstrap.min.css set `[hidden] { display: none !important; }` so we also need the `!important` here to be able to override the default hidden behavior on the sphinx rendered scikit-learn.org. See: https://github.com/scikit-learn/scikit-learn/issues/21755 */display: inline-block !important;position: relative;}#sk-container-id-2 div.sk-text-repr-fallback {display: none;}</style><div id=\"sk-container-id-2\" class=\"sk-top-container\"><div class=\"sk-text-repr-fallback\"><pre>SGDClassifier(random_state=42)</pre><b>In a Jupyter environment, please rerun this cell to show the HTML representation or trust the notebook. <br />On GitHub, the HTML representation is unable to render, please try loading this page with nbviewer.org.</b></div><div class=\"sk-container\" hidden><div class=\"sk-item\"><div class=\"sk-estimator sk-toggleable\"><input class=\"sk-toggleable__control sk-hidden--visually\" id=\"sk-estimator-id-4\" type=\"checkbox\" checked><label for=\"sk-estimator-id-4\" class=\"sk-toggleable__label sk-toggleable__label-arrow\">SGDClassifier</label><div class=\"sk-toggleable__content\"><pre>SGDClassifier(random_state=42)</pre></div></div></div></div></div>"
      ],
      "text/plain": [
       "SGDClassifier(random_state=42)"
      ]
     },
     "execution_count": 12,
     "metadata": {},
     "output_type": "execute_result"
    }
   ],
   "source": [
    "from sklearn.linear_model import SGDClassifier\n",
    "\n",
    "sgd_clf = SGDClassifier(random_state=42)\n",
    "sgd_clf.fit(X_train_transformed, y_train)"
   ]
  },
  {
   "cell_type": "markdown",
   "id": "857faf57",
   "metadata": {},
   "source": [
    "Let us try it on the single example we extractd earlier:"
   ]
  },
  {
   "cell_type": "code",
   "execution_count": 13,
   "id": "6e9fb6b3",
   "metadata": {},
   "outputs": [
    {
     "data": {
      "text/plain": [
       "'ounce feather bowl hummingbird opec moment alabaster valkyrie dyad bread flack desperate iambic hadron heft quell yoghurt bunkmate divert afterimage'"
      ]
     },
     "execution_count": 13,
     "metadata": {},
     "output_type": "execute_result"
    }
   ],
   "source": [
    "# We can test the performance on a single instance (email), but we have\n",
    "# to transform it first or our sgd_clf will not understand it\n",
    "\n",
    "some_email = X[0]\n",
    "some_email"
   ]
  },
  {
   "cell_type": "code",
   "execution_count": 14,
   "id": "ec61ee14",
   "metadata": {},
   "outputs": [
    {
     "data": {
      "text/plain": [
       "array([1], dtype=int64)"
      ]
     },
     "execution_count": 14,
     "metadata": {},
     "output_type": "execute_result"
    }
   ],
   "source": [
    "# Transformed here\n",
    "\n",
    "some_email_transformed = pipeline.transform([some_email])\n",
    "sgd_clf.predict(some_email_transformed)"
   ]
  },
  {
   "cell_type": "markdown",
   "id": "0ecebd8a",
   "metadata": {},
   "source": [
    "We see that the Stochastic Gradient Descent correctly classifies the example as a spam email (spam = 1)."
   ]
  },
  {
   "cell_type": "markdown",
   "id": "5c5b7e8c",
   "metadata": {},
   "source": [
    "## 5. Measuring Accuracy Using CV"
   ]
  },
  {
   "cell_type": "markdown",
   "id": "557793f1",
   "metadata": {},
   "source": [
    "We will use the following classifiers:\n",
    "1. Stochastic Gradient Descent \n",
    "2. Dummy \n",
    "3. Perceptron \n",
    "4. Decision Tree \n",
    "\n",
    "We can measure the accuracies of our classifiers using *cross-validation*. \n",
    "\n",
    "Here, and in the future, we use X_train_transformed instead of X_train."
   ]
  },
  {
   "cell_type": "code",
   "execution_count": 15,
   "id": "44dc6341",
   "metadata": {},
   "outputs": [
    {
     "data": {
      "text/plain": [
       "array([0.98418191, 0.98445153, 0.98337228])"
      ]
     },
     "execution_count": 15,
     "metadata": {},
     "output_type": "execute_result"
    }
   ],
   "source": [
    "from sklearn.model_selection import cross_val_score\n",
    "\n",
    "# Here, we assign them to an array so we can get its mean \n",
    "cross_val_scores = cross_val_score(sgd_clf, X_train_transformed, y_train, cv=3, scoring=\"accuracy\")\n",
    "cross_val_scores"
   ]
  },
  {
   "cell_type": "code",
   "execution_count": 16,
   "id": "f0be4b1a",
   "metadata": {},
   "outputs": [
    {
     "data": {
      "text/plain": [
       "0.9840019079417179"
      ]
     },
     "execution_count": 16,
     "metadata": {},
     "output_type": "execute_result"
    }
   ],
   "source": [
    "import numpy as np\n",
    "\n",
    "# Get the mean score\n",
    "sgd_clf_mean_accuracy = np.mean(cross_val_scores)\n",
    "sgd_clf_mean_accuracy"
   ]
  },
  {
   "cell_type": "markdown",
   "id": "37186497",
   "metadata": {},
   "source": [
    "Let us try a *dummy classifier*, one that classifies every single email in the most frequent class."
   ]
  },
  {
   "cell_type": "code",
   "execution_count": 17,
   "id": "32bcab48",
   "metadata": {},
   "outputs": [
    {
     "data": {
      "text/html": [
       "<style>#sk-container-id-3 {color: black;}#sk-container-id-3 pre{padding: 0;}#sk-container-id-3 div.sk-toggleable {background-color: white;}#sk-container-id-3 label.sk-toggleable__label {cursor: pointer;display: block;width: 100%;margin-bottom: 0;padding: 0.3em;box-sizing: border-box;text-align: center;}#sk-container-id-3 label.sk-toggleable__label-arrow:before {content: \"▸\";float: left;margin-right: 0.25em;color: #696969;}#sk-container-id-3 label.sk-toggleable__label-arrow:hover:before {color: black;}#sk-container-id-3 div.sk-estimator:hover label.sk-toggleable__label-arrow:before {color: black;}#sk-container-id-3 div.sk-toggleable__content {max-height: 0;max-width: 0;overflow: hidden;text-align: left;background-color: #f0f8ff;}#sk-container-id-3 div.sk-toggleable__content pre {margin: 0.2em;color: black;border-radius: 0.25em;background-color: #f0f8ff;}#sk-container-id-3 input.sk-toggleable__control:checked~div.sk-toggleable__content {max-height: 200px;max-width: 100%;overflow: auto;}#sk-container-id-3 input.sk-toggleable__control:checked~label.sk-toggleable__label-arrow:before {content: \"▾\";}#sk-container-id-3 div.sk-estimator input.sk-toggleable__control:checked~label.sk-toggleable__label {background-color: #d4ebff;}#sk-container-id-3 div.sk-label input.sk-toggleable__control:checked~label.sk-toggleable__label {background-color: #d4ebff;}#sk-container-id-3 input.sk-hidden--visually {border: 0;clip: rect(1px 1px 1px 1px);clip: rect(1px, 1px, 1px, 1px);height: 1px;margin: -1px;overflow: hidden;padding: 0;position: absolute;width: 1px;}#sk-container-id-3 div.sk-estimator {font-family: monospace;background-color: #f0f8ff;border: 1px dotted black;border-radius: 0.25em;box-sizing: border-box;margin-bottom: 0.5em;}#sk-container-id-3 div.sk-estimator:hover {background-color: #d4ebff;}#sk-container-id-3 div.sk-parallel-item::after {content: \"\";width: 100%;border-bottom: 1px solid gray;flex-grow: 1;}#sk-container-id-3 div.sk-label:hover label.sk-toggleable__label {background-color: #d4ebff;}#sk-container-id-3 div.sk-serial::before {content: \"\";position: absolute;border-left: 1px solid gray;box-sizing: border-box;top: 0;bottom: 0;left: 50%;z-index: 0;}#sk-container-id-3 div.sk-serial {display: flex;flex-direction: column;align-items: center;background-color: white;padding-right: 0.2em;padding-left: 0.2em;position: relative;}#sk-container-id-3 div.sk-item {position: relative;z-index: 1;}#sk-container-id-3 div.sk-parallel {display: flex;align-items: stretch;justify-content: center;background-color: white;position: relative;}#sk-container-id-3 div.sk-item::before, #sk-container-id-3 div.sk-parallel-item::before {content: \"\";position: absolute;border-left: 1px solid gray;box-sizing: border-box;top: 0;bottom: 0;left: 50%;z-index: -1;}#sk-container-id-3 div.sk-parallel-item {display: flex;flex-direction: column;z-index: 1;position: relative;background-color: white;}#sk-container-id-3 div.sk-parallel-item:first-child::after {align-self: flex-end;width: 50%;}#sk-container-id-3 div.sk-parallel-item:last-child::after {align-self: flex-start;width: 50%;}#sk-container-id-3 div.sk-parallel-item:only-child::after {width: 0;}#sk-container-id-3 div.sk-dashed-wrapped {border: 1px dashed gray;margin: 0 0.4em 0.5em 0.4em;box-sizing: border-box;padding-bottom: 0.4em;background-color: white;}#sk-container-id-3 div.sk-label label {font-family: monospace;font-weight: bold;display: inline-block;line-height: 1.2em;}#sk-container-id-3 div.sk-label-container {text-align: center;}#sk-container-id-3 div.sk-container {/* jupyter's `normalize.less` sets `[hidden] { display: none; }` but bootstrap.min.css set `[hidden] { display: none !important; }` so we also need the `!important` here to be able to override the default hidden behavior on the sphinx rendered scikit-learn.org. See: https://github.com/scikit-learn/scikit-learn/issues/21755 */display: inline-block !important;position: relative;}#sk-container-id-3 div.sk-text-repr-fallback {display: none;}</style><div id=\"sk-container-id-3\" class=\"sk-top-container\"><div class=\"sk-text-repr-fallback\"><pre>DummyClassifier()</pre><b>In a Jupyter environment, please rerun this cell to show the HTML representation or trust the notebook. <br />On GitHub, the HTML representation is unable to render, please try loading this page with nbviewer.org.</b></div><div class=\"sk-container\" hidden><div class=\"sk-item\"><div class=\"sk-estimator sk-toggleable\"><input class=\"sk-toggleable__control sk-hidden--visually\" id=\"sk-estimator-id-5\" type=\"checkbox\" checked><label for=\"sk-estimator-id-5\" class=\"sk-toggleable__label sk-toggleable__label-arrow\">DummyClassifier</label><div class=\"sk-toggleable__content\"><pre>DummyClassifier()</pre></div></div></div></div></div>"
      ],
      "text/plain": [
       "DummyClassifier()"
      ]
     },
     "execution_count": 17,
     "metadata": {},
     "output_type": "execute_result"
    }
   ],
   "source": [
    "from sklearn.dummy import DummyClassifier\n",
    "\n",
    "dummy_clf = DummyClassifier()\n",
    "dummy_clf.fit(X_train_transformed, y_train)\n"
   ]
  },
  {
   "cell_type": "code",
   "execution_count": 18,
   "id": "3e9a3553",
   "metadata": {},
   "outputs": [
    {
     "name": "stdout",
     "output_type": "stream",
     "text": [
      "[0.52644587 0.52644587 0.52646953]\n"
     ]
    }
   ],
   "source": [
    "# Measure its accuracy score\n",
    "cross_val_scores = cross_val_score(dummy_clf, X_train_transformed, y_train, cv=3, scoring=\"accuracy\")\n",
    "print(cross_val_scores)"
   ]
  },
  {
   "cell_type": "code",
   "execution_count": 19,
   "id": "4dbe5690",
   "metadata": {},
   "outputs": [
    {
     "data": {
      "text/plain": [
       "0.5264537585873189"
      ]
     },
     "execution_count": 19,
     "metadata": {},
     "output_type": "execute_result"
    }
   ],
   "source": [
    "# Get the mean score\n",
    "dummy_clf_mean_accuracy = np.mean(cross_val_scores)\n",
    "dummy_clf_mean_accuracy"
   ]
  },
  {
   "cell_type": "markdown",
   "id": "82cb4ce4",
   "metadata": {},
   "source": [
    "Let us now try a *Perceptron* classifier:"
   ]
  },
  {
   "cell_type": "code",
   "execution_count": 20,
   "id": "6c47d8c2",
   "metadata": {},
   "outputs": [
    {
     "data": {
      "text/html": [
       "<style>#sk-container-id-4 {color: black;}#sk-container-id-4 pre{padding: 0;}#sk-container-id-4 div.sk-toggleable {background-color: white;}#sk-container-id-4 label.sk-toggleable__label {cursor: pointer;display: block;width: 100%;margin-bottom: 0;padding: 0.3em;box-sizing: border-box;text-align: center;}#sk-container-id-4 label.sk-toggleable__label-arrow:before {content: \"▸\";float: left;margin-right: 0.25em;color: #696969;}#sk-container-id-4 label.sk-toggleable__label-arrow:hover:before {color: black;}#sk-container-id-4 div.sk-estimator:hover label.sk-toggleable__label-arrow:before {color: black;}#sk-container-id-4 div.sk-toggleable__content {max-height: 0;max-width: 0;overflow: hidden;text-align: left;background-color: #f0f8ff;}#sk-container-id-4 div.sk-toggleable__content pre {margin: 0.2em;color: black;border-radius: 0.25em;background-color: #f0f8ff;}#sk-container-id-4 input.sk-toggleable__control:checked~div.sk-toggleable__content {max-height: 200px;max-width: 100%;overflow: auto;}#sk-container-id-4 input.sk-toggleable__control:checked~label.sk-toggleable__label-arrow:before {content: \"▾\";}#sk-container-id-4 div.sk-estimator input.sk-toggleable__control:checked~label.sk-toggleable__label {background-color: #d4ebff;}#sk-container-id-4 div.sk-label input.sk-toggleable__control:checked~label.sk-toggleable__label {background-color: #d4ebff;}#sk-container-id-4 input.sk-hidden--visually {border: 0;clip: rect(1px 1px 1px 1px);clip: rect(1px, 1px, 1px, 1px);height: 1px;margin: -1px;overflow: hidden;padding: 0;position: absolute;width: 1px;}#sk-container-id-4 div.sk-estimator {font-family: monospace;background-color: #f0f8ff;border: 1px dotted black;border-radius: 0.25em;box-sizing: border-box;margin-bottom: 0.5em;}#sk-container-id-4 div.sk-estimator:hover {background-color: #d4ebff;}#sk-container-id-4 div.sk-parallel-item::after {content: \"\";width: 100%;border-bottom: 1px solid gray;flex-grow: 1;}#sk-container-id-4 div.sk-label:hover label.sk-toggleable__label {background-color: #d4ebff;}#sk-container-id-4 div.sk-serial::before {content: \"\";position: absolute;border-left: 1px solid gray;box-sizing: border-box;top: 0;bottom: 0;left: 50%;z-index: 0;}#sk-container-id-4 div.sk-serial {display: flex;flex-direction: column;align-items: center;background-color: white;padding-right: 0.2em;padding-left: 0.2em;position: relative;}#sk-container-id-4 div.sk-item {position: relative;z-index: 1;}#sk-container-id-4 div.sk-parallel {display: flex;align-items: stretch;justify-content: center;background-color: white;position: relative;}#sk-container-id-4 div.sk-item::before, #sk-container-id-4 div.sk-parallel-item::before {content: \"\";position: absolute;border-left: 1px solid gray;box-sizing: border-box;top: 0;bottom: 0;left: 50%;z-index: -1;}#sk-container-id-4 div.sk-parallel-item {display: flex;flex-direction: column;z-index: 1;position: relative;background-color: white;}#sk-container-id-4 div.sk-parallel-item:first-child::after {align-self: flex-end;width: 50%;}#sk-container-id-4 div.sk-parallel-item:last-child::after {align-self: flex-start;width: 50%;}#sk-container-id-4 div.sk-parallel-item:only-child::after {width: 0;}#sk-container-id-4 div.sk-dashed-wrapped {border: 1px dashed gray;margin: 0 0.4em 0.5em 0.4em;box-sizing: border-box;padding-bottom: 0.4em;background-color: white;}#sk-container-id-4 div.sk-label label {font-family: monospace;font-weight: bold;display: inline-block;line-height: 1.2em;}#sk-container-id-4 div.sk-label-container {text-align: center;}#sk-container-id-4 div.sk-container {/* jupyter's `normalize.less` sets `[hidden] { display: none; }` but bootstrap.min.css set `[hidden] { display: none !important; }` so we also need the `!important` here to be able to override the default hidden behavior on the sphinx rendered scikit-learn.org. See: https://github.com/scikit-learn/scikit-learn/issues/21755 */display: inline-block !important;position: relative;}#sk-container-id-4 div.sk-text-repr-fallback {display: none;}</style><div id=\"sk-container-id-4\" class=\"sk-top-container\"><div class=\"sk-text-repr-fallback\"><pre>Perceptron(random_state=42)</pre><b>In a Jupyter environment, please rerun this cell to show the HTML representation or trust the notebook. <br />On GitHub, the HTML representation is unable to render, please try loading this page with nbviewer.org.</b></div><div class=\"sk-container\" hidden><div class=\"sk-item\"><div class=\"sk-estimator sk-toggleable\"><input class=\"sk-toggleable__control sk-hidden--visually\" id=\"sk-estimator-id-6\" type=\"checkbox\" checked><label for=\"sk-estimator-id-6\" class=\"sk-toggleable__label sk-toggleable__label-arrow\">Perceptron</label><div class=\"sk-toggleable__content\"><pre>Perceptron(random_state=42)</pre></div></div></div></div></div>"
      ],
      "text/plain": [
       "Perceptron(random_state=42)"
      ]
     },
     "execution_count": 20,
     "metadata": {},
     "output_type": "execute_result"
    }
   ],
   "source": [
    "from sklearn.linear_model import Perceptron\n",
    "\n",
    "perceptron_clf = Perceptron(random_state=42)\n",
    "perceptron_clf.fit(X_train_transformed, y_train)"
   ]
  },
  {
   "cell_type": "code",
   "execution_count": 21,
   "id": "0ba86fe4",
   "metadata": {},
   "outputs": [
    {
     "data": {
      "text/plain": [
       "array([0.98584461, 0.98674336, 0.98669782])"
      ]
     },
     "execution_count": 21,
     "metadata": {},
     "output_type": "execute_result"
    }
   ],
   "source": [
    "# Measure its accuracy score\n",
    "cross_val_scores = cross_val_score(perceptron_clf, X_train_transformed, y_train, cv=3, scoring=\"accuracy\")\n",
    "cross_val_scores"
   ]
  },
  {
   "cell_type": "code",
   "execution_count": 22,
   "id": "ebaa22cd",
   "metadata": {},
   "outputs": [
    {
     "data": {
      "text/plain": [
       "0.9864285968607217"
      ]
     },
     "execution_count": 22,
     "metadata": {},
     "output_type": "execute_result"
    }
   ],
   "source": [
    "# Get the mean score\n",
    "perceptron_clf_mean_accuracy = np.mean(cross_val_scores)\n",
    "perceptron_clf_mean_accuracy"
   ]
  },
  {
   "cell_type": "markdown",
   "id": "03d26867",
   "metadata": {},
   "source": [
    "Let us now try a *Decision Tree* classifier:"
   ]
  },
  {
   "cell_type": "code",
   "execution_count": 23,
   "id": "8675b025",
   "metadata": {},
   "outputs": [
    {
     "data": {
      "text/html": [
       "<style>#sk-container-id-5 {color: black;}#sk-container-id-5 pre{padding: 0;}#sk-container-id-5 div.sk-toggleable {background-color: white;}#sk-container-id-5 label.sk-toggleable__label {cursor: pointer;display: block;width: 100%;margin-bottom: 0;padding: 0.3em;box-sizing: border-box;text-align: center;}#sk-container-id-5 label.sk-toggleable__label-arrow:before {content: \"▸\";float: left;margin-right: 0.25em;color: #696969;}#sk-container-id-5 label.sk-toggleable__label-arrow:hover:before {color: black;}#sk-container-id-5 div.sk-estimator:hover label.sk-toggleable__label-arrow:before {color: black;}#sk-container-id-5 div.sk-toggleable__content {max-height: 0;max-width: 0;overflow: hidden;text-align: left;background-color: #f0f8ff;}#sk-container-id-5 div.sk-toggleable__content pre {margin: 0.2em;color: black;border-radius: 0.25em;background-color: #f0f8ff;}#sk-container-id-5 input.sk-toggleable__control:checked~div.sk-toggleable__content {max-height: 200px;max-width: 100%;overflow: auto;}#sk-container-id-5 input.sk-toggleable__control:checked~label.sk-toggleable__label-arrow:before {content: \"▾\";}#sk-container-id-5 div.sk-estimator input.sk-toggleable__control:checked~label.sk-toggleable__label {background-color: #d4ebff;}#sk-container-id-5 div.sk-label input.sk-toggleable__control:checked~label.sk-toggleable__label {background-color: #d4ebff;}#sk-container-id-5 input.sk-hidden--visually {border: 0;clip: rect(1px 1px 1px 1px);clip: rect(1px, 1px, 1px, 1px);height: 1px;margin: -1px;overflow: hidden;padding: 0;position: absolute;width: 1px;}#sk-container-id-5 div.sk-estimator {font-family: monospace;background-color: #f0f8ff;border: 1px dotted black;border-radius: 0.25em;box-sizing: border-box;margin-bottom: 0.5em;}#sk-container-id-5 div.sk-estimator:hover {background-color: #d4ebff;}#sk-container-id-5 div.sk-parallel-item::after {content: \"\";width: 100%;border-bottom: 1px solid gray;flex-grow: 1;}#sk-container-id-5 div.sk-label:hover label.sk-toggleable__label {background-color: #d4ebff;}#sk-container-id-5 div.sk-serial::before {content: \"\";position: absolute;border-left: 1px solid gray;box-sizing: border-box;top: 0;bottom: 0;left: 50%;z-index: 0;}#sk-container-id-5 div.sk-serial {display: flex;flex-direction: column;align-items: center;background-color: white;padding-right: 0.2em;padding-left: 0.2em;position: relative;}#sk-container-id-5 div.sk-item {position: relative;z-index: 1;}#sk-container-id-5 div.sk-parallel {display: flex;align-items: stretch;justify-content: center;background-color: white;position: relative;}#sk-container-id-5 div.sk-item::before, #sk-container-id-5 div.sk-parallel-item::before {content: \"\";position: absolute;border-left: 1px solid gray;box-sizing: border-box;top: 0;bottom: 0;left: 50%;z-index: -1;}#sk-container-id-5 div.sk-parallel-item {display: flex;flex-direction: column;z-index: 1;position: relative;background-color: white;}#sk-container-id-5 div.sk-parallel-item:first-child::after {align-self: flex-end;width: 50%;}#sk-container-id-5 div.sk-parallel-item:last-child::after {align-self: flex-start;width: 50%;}#sk-container-id-5 div.sk-parallel-item:only-child::after {width: 0;}#sk-container-id-5 div.sk-dashed-wrapped {border: 1px dashed gray;margin: 0 0.4em 0.5em 0.4em;box-sizing: border-box;padding-bottom: 0.4em;background-color: white;}#sk-container-id-5 div.sk-label label {font-family: monospace;font-weight: bold;display: inline-block;line-height: 1.2em;}#sk-container-id-5 div.sk-label-container {text-align: center;}#sk-container-id-5 div.sk-container {/* jupyter's `normalize.less` sets `[hidden] { display: none; }` but bootstrap.min.css set `[hidden] { display: none !important; }` so we also need the `!important` here to be able to override the default hidden behavior on the sphinx rendered scikit-learn.org. See: https://github.com/scikit-learn/scikit-learn/issues/21755 */display: inline-block !important;position: relative;}#sk-container-id-5 div.sk-text-repr-fallback {display: none;}</style><div id=\"sk-container-id-5\" class=\"sk-top-container\"><div class=\"sk-text-repr-fallback\"><pre>DecisionTreeClassifier(random_state=42)</pre><b>In a Jupyter environment, please rerun this cell to show the HTML representation or trust the notebook. <br />On GitHub, the HTML representation is unable to render, please try loading this page with nbviewer.org.</b></div><div class=\"sk-container\" hidden><div class=\"sk-item\"><div class=\"sk-estimator sk-toggleable\"><input class=\"sk-toggleable__control sk-hidden--visually\" id=\"sk-estimator-id-7\" type=\"checkbox\" checked><label for=\"sk-estimator-id-7\" class=\"sk-toggleable__label sk-toggleable__label-arrow\">DecisionTreeClassifier</label><div class=\"sk-toggleable__content\"><pre>DecisionTreeClassifier(random_state=42)</pre></div></div></div></div></div>"
      ],
      "text/plain": [
       "DecisionTreeClassifier(random_state=42)"
      ]
     },
     "execution_count": 23,
     "metadata": {},
     "output_type": "execute_result"
    }
   ],
   "source": [
    "# Let us try a DT classifier\n",
    "from sklearn.tree import DecisionTreeClassifier\n",
    "\n",
    "dt_clf = DecisionTreeClassifier(random_state=42)\n",
    "dt_clf.fit(X_train_transformed, y_train)"
   ]
  },
  {
   "cell_type": "code",
   "execution_count": 24,
   "id": "0e00567d",
   "metadata": {},
   "outputs": [
    {
     "data": {
      "text/plain": [
       "array([0.96315104, 0.9597807 , 0.96094733])"
      ]
     },
     "execution_count": 24,
     "metadata": {},
     "output_type": "execute_result"
    }
   ],
   "source": [
    "# Measure its accuracy score\n",
    "cross_val_scores = cross_val_score(dt_clf, X_train_transformed, y_train, cv=3, n_jobs=-1, scoring=\"accuracy\")\n",
    "cross_val_scores"
   ]
  },
  {
   "cell_type": "code",
   "execution_count": 25,
   "id": "7eec7843",
   "metadata": {},
   "outputs": [
    {
     "data": {
      "text/plain": [
       "0.9612930233725875"
      ]
     },
     "execution_count": 25,
     "metadata": {},
     "output_type": "execute_result"
    }
   ],
   "source": [
    "# Get the mean score\n",
    "dt_clf_mean_accuracy = np.mean(cross_val_scores)\n",
    "dt_clf_mean_accuracy"
   ]
  },
  {
   "cell_type": "markdown",
   "id": "1cea644e",
   "metadata": {},
   "source": [
    "Let us try *LogisticRegression*:"
   ]
  },
  {
   "cell_type": "code",
   "execution_count": 26,
   "id": "103658ed",
   "metadata": {},
   "outputs": [
    {
     "data": {
      "text/html": [
       "<style>#sk-container-id-6 {color: black;}#sk-container-id-6 pre{padding: 0;}#sk-container-id-6 div.sk-toggleable {background-color: white;}#sk-container-id-6 label.sk-toggleable__label {cursor: pointer;display: block;width: 100%;margin-bottom: 0;padding: 0.3em;box-sizing: border-box;text-align: center;}#sk-container-id-6 label.sk-toggleable__label-arrow:before {content: \"▸\";float: left;margin-right: 0.25em;color: #696969;}#sk-container-id-6 label.sk-toggleable__label-arrow:hover:before {color: black;}#sk-container-id-6 div.sk-estimator:hover label.sk-toggleable__label-arrow:before {color: black;}#sk-container-id-6 div.sk-toggleable__content {max-height: 0;max-width: 0;overflow: hidden;text-align: left;background-color: #f0f8ff;}#sk-container-id-6 div.sk-toggleable__content pre {margin: 0.2em;color: black;border-radius: 0.25em;background-color: #f0f8ff;}#sk-container-id-6 input.sk-toggleable__control:checked~div.sk-toggleable__content {max-height: 200px;max-width: 100%;overflow: auto;}#sk-container-id-6 input.sk-toggleable__control:checked~label.sk-toggleable__label-arrow:before {content: \"▾\";}#sk-container-id-6 div.sk-estimator input.sk-toggleable__control:checked~label.sk-toggleable__label {background-color: #d4ebff;}#sk-container-id-6 div.sk-label input.sk-toggleable__control:checked~label.sk-toggleable__label {background-color: #d4ebff;}#sk-container-id-6 input.sk-hidden--visually {border: 0;clip: rect(1px 1px 1px 1px);clip: rect(1px, 1px, 1px, 1px);height: 1px;margin: -1px;overflow: hidden;padding: 0;position: absolute;width: 1px;}#sk-container-id-6 div.sk-estimator {font-family: monospace;background-color: #f0f8ff;border: 1px dotted black;border-radius: 0.25em;box-sizing: border-box;margin-bottom: 0.5em;}#sk-container-id-6 div.sk-estimator:hover {background-color: #d4ebff;}#sk-container-id-6 div.sk-parallel-item::after {content: \"\";width: 100%;border-bottom: 1px solid gray;flex-grow: 1;}#sk-container-id-6 div.sk-label:hover label.sk-toggleable__label {background-color: #d4ebff;}#sk-container-id-6 div.sk-serial::before {content: \"\";position: absolute;border-left: 1px solid gray;box-sizing: border-box;top: 0;bottom: 0;left: 50%;z-index: 0;}#sk-container-id-6 div.sk-serial {display: flex;flex-direction: column;align-items: center;background-color: white;padding-right: 0.2em;padding-left: 0.2em;position: relative;}#sk-container-id-6 div.sk-item {position: relative;z-index: 1;}#sk-container-id-6 div.sk-parallel {display: flex;align-items: stretch;justify-content: center;background-color: white;position: relative;}#sk-container-id-6 div.sk-item::before, #sk-container-id-6 div.sk-parallel-item::before {content: \"\";position: absolute;border-left: 1px solid gray;box-sizing: border-box;top: 0;bottom: 0;left: 50%;z-index: -1;}#sk-container-id-6 div.sk-parallel-item {display: flex;flex-direction: column;z-index: 1;position: relative;background-color: white;}#sk-container-id-6 div.sk-parallel-item:first-child::after {align-self: flex-end;width: 50%;}#sk-container-id-6 div.sk-parallel-item:last-child::after {align-self: flex-start;width: 50%;}#sk-container-id-6 div.sk-parallel-item:only-child::after {width: 0;}#sk-container-id-6 div.sk-dashed-wrapped {border: 1px dashed gray;margin: 0 0.4em 0.5em 0.4em;box-sizing: border-box;padding-bottom: 0.4em;background-color: white;}#sk-container-id-6 div.sk-label label {font-family: monospace;font-weight: bold;display: inline-block;line-height: 1.2em;}#sk-container-id-6 div.sk-label-container {text-align: center;}#sk-container-id-6 div.sk-container {/* jupyter's `normalize.less` sets `[hidden] { display: none; }` but bootstrap.min.css set `[hidden] { display: none !important; }` so we also need the `!important` here to be able to override the default hidden behavior on the sphinx rendered scikit-learn.org. See: https://github.com/scikit-learn/scikit-learn/issues/21755 */display: inline-block !important;position: relative;}#sk-container-id-6 div.sk-text-repr-fallback {display: none;}</style><div id=\"sk-container-id-6\" class=\"sk-top-container\"><div class=\"sk-text-repr-fallback\"><pre>LogisticRegression(random_state=42)</pre><b>In a Jupyter environment, please rerun this cell to show the HTML representation or trust the notebook. <br />On GitHub, the HTML representation is unable to render, please try loading this page with nbviewer.org.</b></div><div class=\"sk-container\" hidden><div class=\"sk-item\"><div class=\"sk-estimator sk-toggleable\"><input class=\"sk-toggleable__control sk-hidden--visually\" id=\"sk-estimator-id-8\" type=\"checkbox\" checked><label for=\"sk-estimator-id-8\" class=\"sk-toggleable__label sk-toggleable__label-arrow\">LogisticRegression</label><div class=\"sk-toggleable__content\"><pre>LogisticRegression(random_state=42)</pre></div></div></div></div></div>"
      ],
      "text/plain": [
       "LogisticRegression(random_state=42)"
      ]
     },
     "execution_count": 26,
     "metadata": {},
     "output_type": "execute_result"
    }
   ],
   "source": [
    "from sklearn.linear_model import LogisticRegression\n",
    "\n",
    "logreg_clf = LogisticRegression(random_state=42)\n",
    "logreg_clf.fit(X_train_transformed, y_train)"
   ]
  },
  {
   "cell_type": "code",
   "execution_count": 27,
   "id": "2059b371",
   "metadata": {},
   "outputs": [
    {
     "data": {
      "text/plain": [
       "array([0.98233946, 0.98197996, 0.98247349])"
      ]
     },
     "execution_count": 27,
     "metadata": {},
     "output_type": "execute_result"
    }
   ],
   "source": [
    "# Measures its accuracy score\n",
    "cross_val_scores = cross_val_score(logreg_clf, X_train_transformed, y_train, cv=3, n_jobs=-1, scoring=\"accuracy\")\n",
    "cross_val_scores"
   ]
  },
  {
   "cell_type": "code",
   "execution_count": 28,
   "id": "be22ebb0",
   "metadata": {},
   "outputs": [
    {
     "data": {
      "text/plain": [
       "0.9822643010453351"
      ]
     },
     "execution_count": 28,
     "metadata": {},
     "output_type": "execute_result"
    }
   ],
   "source": [
    "# Get the mean score\n",
    "logreg_clf_mean_accuracy = np.mean(cross_val_scores)\n",
    "logreg_clf_mean_accuracy"
   ]
  },
  {
   "cell_type": "markdown",
   "id": "7c3f64d0",
   "metadata": {},
   "source": [
    "Let us try a *3-Nearest Neighbors* classifier:"
   ]
  },
  {
   "cell_type": "code",
   "execution_count": 29,
   "id": "6cc483f4",
   "metadata": {},
   "outputs": [
    {
     "data": {
      "text/html": [
       "<style>#sk-container-id-7 {color: black;}#sk-container-id-7 pre{padding: 0;}#sk-container-id-7 div.sk-toggleable {background-color: white;}#sk-container-id-7 label.sk-toggleable__label {cursor: pointer;display: block;width: 100%;margin-bottom: 0;padding: 0.3em;box-sizing: border-box;text-align: center;}#sk-container-id-7 label.sk-toggleable__label-arrow:before {content: \"▸\";float: left;margin-right: 0.25em;color: #696969;}#sk-container-id-7 label.sk-toggleable__label-arrow:hover:before {color: black;}#sk-container-id-7 div.sk-estimator:hover label.sk-toggleable__label-arrow:before {color: black;}#sk-container-id-7 div.sk-toggleable__content {max-height: 0;max-width: 0;overflow: hidden;text-align: left;background-color: #f0f8ff;}#sk-container-id-7 div.sk-toggleable__content pre {margin: 0.2em;color: black;border-radius: 0.25em;background-color: #f0f8ff;}#sk-container-id-7 input.sk-toggleable__control:checked~div.sk-toggleable__content {max-height: 200px;max-width: 100%;overflow: auto;}#sk-container-id-7 input.sk-toggleable__control:checked~label.sk-toggleable__label-arrow:before {content: \"▾\";}#sk-container-id-7 div.sk-estimator input.sk-toggleable__control:checked~label.sk-toggleable__label {background-color: #d4ebff;}#sk-container-id-7 div.sk-label input.sk-toggleable__control:checked~label.sk-toggleable__label {background-color: #d4ebff;}#sk-container-id-7 input.sk-hidden--visually {border: 0;clip: rect(1px 1px 1px 1px);clip: rect(1px, 1px, 1px, 1px);height: 1px;margin: -1px;overflow: hidden;padding: 0;position: absolute;width: 1px;}#sk-container-id-7 div.sk-estimator {font-family: monospace;background-color: #f0f8ff;border: 1px dotted black;border-radius: 0.25em;box-sizing: border-box;margin-bottom: 0.5em;}#sk-container-id-7 div.sk-estimator:hover {background-color: #d4ebff;}#sk-container-id-7 div.sk-parallel-item::after {content: \"\";width: 100%;border-bottom: 1px solid gray;flex-grow: 1;}#sk-container-id-7 div.sk-label:hover label.sk-toggleable__label {background-color: #d4ebff;}#sk-container-id-7 div.sk-serial::before {content: \"\";position: absolute;border-left: 1px solid gray;box-sizing: border-box;top: 0;bottom: 0;left: 50%;z-index: 0;}#sk-container-id-7 div.sk-serial {display: flex;flex-direction: column;align-items: center;background-color: white;padding-right: 0.2em;padding-left: 0.2em;position: relative;}#sk-container-id-7 div.sk-item {position: relative;z-index: 1;}#sk-container-id-7 div.sk-parallel {display: flex;align-items: stretch;justify-content: center;background-color: white;position: relative;}#sk-container-id-7 div.sk-item::before, #sk-container-id-7 div.sk-parallel-item::before {content: \"\";position: absolute;border-left: 1px solid gray;box-sizing: border-box;top: 0;bottom: 0;left: 50%;z-index: -1;}#sk-container-id-7 div.sk-parallel-item {display: flex;flex-direction: column;z-index: 1;position: relative;background-color: white;}#sk-container-id-7 div.sk-parallel-item:first-child::after {align-self: flex-end;width: 50%;}#sk-container-id-7 div.sk-parallel-item:last-child::after {align-self: flex-start;width: 50%;}#sk-container-id-7 div.sk-parallel-item:only-child::after {width: 0;}#sk-container-id-7 div.sk-dashed-wrapped {border: 1px dashed gray;margin: 0 0.4em 0.5em 0.4em;box-sizing: border-box;padding-bottom: 0.4em;background-color: white;}#sk-container-id-7 div.sk-label label {font-family: monospace;font-weight: bold;display: inline-block;line-height: 1.2em;}#sk-container-id-7 div.sk-label-container {text-align: center;}#sk-container-id-7 div.sk-container {/* jupyter's `normalize.less` sets `[hidden] { display: none; }` but bootstrap.min.css set `[hidden] { display: none !important; }` so we also need the `!important` here to be able to override the default hidden behavior on the sphinx rendered scikit-learn.org. See: https://github.com/scikit-learn/scikit-learn/issues/21755 */display: inline-block !important;position: relative;}#sk-container-id-7 div.sk-text-repr-fallback {display: none;}</style><div id=\"sk-container-id-7\" class=\"sk-top-container\"><div class=\"sk-text-repr-fallback\"><pre>KNeighborsClassifier(n_jobs=-1, n_neighbors=3)</pre><b>In a Jupyter environment, please rerun this cell to show the HTML representation or trust the notebook. <br />On GitHub, the HTML representation is unable to render, please try loading this page with nbviewer.org.</b></div><div class=\"sk-container\" hidden><div class=\"sk-item\"><div class=\"sk-estimator sk-toggleable\"><input class=\"sk-toggleable__control sk-hidden--visually\" id=\"sk-estimator-id-9\" type=\"checkbox\" checked><label for=\"sk-estimator-id-9\" class=\"sk-toggleable__label sk-toggleable__label-arrow\">KNeighborsClassifier</label><div class=\"sk-toggleable__content\"><pre>KNeighborsClassifier(n_jobs=-1, n_neighbors=3)</pre></div></div></div></div></div>"
      ],
      "text/plain": [
       "KNeighborsClassifier(n_jobs=-1, n_neighbors=3)"
      ]
     },
     "execution_count": 29,
     "metadata": {},
     "output_type": "execute_result"
    }
   ],
   "source": [
    "# Let us try a KNNeighbors\n",
    "from sklearn.neighbors import KNeighborsClassifier\n",
    "KNN_clf = KNeighborsClassifier(n_neighbors=3, n_jobs=-1)\n",
    "KNN_clf.fit(X_train_transformed, y_train)"
   ]
  },
  {
   "cell_type": "code",
   "execution_count": 30,
   "id": "a63795d3",
   "metadata": {},
   "outputs": [
    {
     "data": {
      "text/plain": [
       "array([0.79593763, 0.79301667, 0.79511954])"
      ]
     },
     "execution_count": 30,
     "metadata": {},
     "output_type": "execute_result"
    }
   ],
   "source": [
    "# Measures its accuracy score\n",
    "cross_val_scores = cross_val_score(KNN_clf, X_train_transformed, y_train, cv=3, n_jobs=-1, scoring=\"accuracy\")\n",
    "cross_val_scores"
   ]
  },
  {
   "cell_type": "code",
   "execution_count": 31,
   "id": "4dd27c5e",
   "metadata": {},
   "outputs": [
    {
     "data": {
      "text/plain": [
       "0.7946912793711682"
      ]
     },
     "execution_count": 31,
     "metadata": {},
     "output_type": "execute_result"
    }
   ],
   "source": [
    "# Get the mean score\n",
    "KNN_clf_mean_accuracy = np.mean(cross_val_scores)\n",
    "KNN_clf_mean_accuracy"
   ]
  },
  {
   "cell_type": "markdown",
   "id": "ef47a2dd",
   "metadata": {},
   "source": [
    "Finally, let us try a *Random Forest* classifier:"
   ]
  },
  {
   "cell_type": "code",
   "execution_count": 32,
   "id": "96e4852c",
   "metadata": {},
   "outputs": [
    {
     "data": {
      "text/html": [
       "<style>#sk-container-id-8 {color: black;}#sk-container-id-8 pre{padding: 0;}#sk-container-id-8 div.sk-toggleable {background-color: white;}#sk-container-id-8 label.sk-toggleable__label {cursor: pointer;display: block;width: 100%;margin-bottom: 0;padding: 0.3em;box-sizing: border-box;text-align: center;}#sk-container-id-8 label.sk-toggleable__label-arrow:before {content: \"▸\";float: left;margin-right: 0.25em;color: #696969;}#sk-container-id-8 label.sk-toggleable__label-arrow:hover:before {color: black;}#sk-container-id-8 div.sk-estimator:hover label.sk-toggleable__label-arrow:before {color: black;}#sk-container-id-8 div.sk-toggleable__content {max-height: 0;max-width: 0;overflow: hidden;text-align: left;background-color: #f0f8ff;}#sk-container-id-8 div.sk-toggleable__content pre {margin: 0.2em;color: black;border-radius: 0.25em;background-color: #f0f8ff;}#sk-container-id-8 input.sk-toggleable__control:checked~div.sk-toggleable__content {max-height: 200px;max-width: 100%;overflow: auto;}#sk-container-id-8 input.sk-toggleable__control:checked~label.sk-toggleable__label-arrow:before {content: \"▾\";}#sk-container-id-8 div.sk-estimator input.sk-toggleable__control:checked~label.sk-toggleable__label {background-color: #d4ebff;}#sk-container-id-8 div.sk-label input.sk-toggleable__control:checked~label.sk-toggleable__label {background-color: #d4ebff;}#sk-container-id-8 input.sk-hidden--visually {border: 0;clip: rect(1px 1px 1px 1px);clip: rect(1px, 1px, 1px, 1px);height: 1px;margin: -1px;overflow: hidden;padding: 0;position: absolute;width: 1px;}#sk-container-id-8 div.sk-estimator {font-family: monospace;background-color: #f0f8ff;border: 1px dotted black;border-radius: 0.25em;box-sizing: border-box;margin-bottom: 0.5em;}#sk-container-id-8 div.sk-estimator:hover {background-color: #d4ebff;}#sk-container-id-8 div.sk-parallel-item::after {content: \"\";width: 100%;border-bottom: 1px solid gray;flex-grow: 1;}#sk-container-id-8 div.sk-label:hover label.sk-toggleable__label {background-color: #d4ebff;}#sk-container-id-8 div.sk-serial::before {content: \"\";position: absolute;border-left: 1px solid gray;box-sizing: border-box;top: 0;bottom: 0;left: 50%;z-index: 0;}#sk-container-id-8 div.sk-serial {display: flex;flex-direction: column;align-items: center;background-color: white;padding-right: 0.2em;padding-left: 0.2em;position: relative;}#sk-container-id-8 div.sk-item {position: relative;z-index: 1;}#sk-container-id-8 div.sk-parallel {display: flex;align-items: stretch;justify-content: center;background-color: white;position: relative;}#sk-container-id-8 div.sk-item::before, #sk-container-id-8 div.sk-parallel-item::before {content: \"\";position: absolute;border-left: 1px solid gray;box-sizing: border-box;top: 0;bottom: 0;left: 50%;z-index: -1;}#sk-container-id-8 div.sk-parallel-item {display: flex;flex-direction: column;z-index: 1;position: relative;background-color: white;}#sk-container-id-8 div.sk-parallel-item:first-child::after {align-self: flex-end;width: 50%;}#sk-container-id-8 div.sk-parallel-item:last-child::after {align-self: flex-start;width: 50%;}#sk-container-id-8 div.sk-parallel-item:only-child::after {width: 0;}#sk-container-id-8 div.sk-dashed-wrapped {border: 1px dashed gray;margin: 0 0.4em 0.5em 0.4em;box-sizing: border-box;padding-bottom: 0.4em;background-color: white;}#sk-container-id-8 div.sk-label label {font-family: monospace;font-weight: bold;display: inline-block;line-height: 1.2em;}#sk-container-id-8 div.sk-label-container {text-align: center;}#sk-container-id-8 div.sk-container {/* jupyter's `normalize.less` sets `[hidden] { display: none; }` but bootstrap.min.css set `[hidden] { display: none !important; }` so we also need the `!important` here to be able to override the default hidden behavior on the sphinx rendered scikit-learn.org. See: https://github.com/scikit-learn/scikit-learn/issues/21755 */display: inline-block !important;position: relative;}#sk-container-id-8 div.sk-text-repr-fallback {display: none;}</style><div id=\"sk-container-id-8\" class=\"sk-top-container\"><div class=\"sk-text-repr-fallback\"><pre>RandomForestClassifier(n_jobs=-1, random_state=42)</pre><b>In a Jupyter environment, please rerun this cell to show the HTML representation or trust the notebook. <br />On GitHub, the HTML representation is unable to render, please try loading this page with nbviewer.org.</b></div><div class=\"sk-container\" hidden><div class=\"sk-item\"><div class=\"sk-estimator sk-toggleable\"><input class=\"sk-toggleable__control sk-hidden--visually\" id=\"sk-estimator-id-10\" type=\"checkbox\" checked><label for=\"sk-estimator-id-10\" class=\"sk-toggleable__label sk-toggleable__label-arrow\">RandomForestClassifier</label><div class=\"sk-toggleable__content\"><pre>RandomForestClassifier(n_jobs=-1, random_state=42)</pre></div></div></div></div></div>"
      ],
      "text/plain": [
       "RandomForestClassifier(n_jobs=-1, random_state=42)"
      ]
     },
     "execution_count": 32,
     "metadata": {},
     "output_type": "execute_result"
    }
   ],
   "source": [
    "# Let us try a random forest classifier\n",
    "from sklearn.ensemble import RandomForestClassifier\n",
    "\n",
    "RF_clf = RandomForestClassifier(random_state=42, n_jobs=-1)\n",
    "RF_clf.fit(X_train_transformed, y_train)"
   ]
  },
  {
   "cell_type": "code",
   "execution_count": 33,
   "id": "50bce942",
   "metadata": {},
   "outputs": [
    {
     "data": {
      "text/plain": [
       "array([0.98189008, 0.97955332, 0.98251843])"
      ]
     },
     "execution_count": 33,
     "metadata": {},
     "output_type": "execute_result"
    }
   ],
   "source": [
    "# Measure its accuracy\n",
    "cross_val_scores = cross_val_score(RF_clf, X_train_transformed, y_train, cv=3, n_jobs=-1, scoring=\"accuracy\")\n",
    "cross_val_scores"
   ]
  },
  {
   "cell_type": "code",
   "execution_count": 34,
   "id": "2827141d",
   "metadata": {},
   "outputs": [
    {
     "data": {
      "text/plain": [
       "0.9813206087332841"
      ]
     },
     "execution_count": 34,
     "metadata": {},
     "output_type": "execute_result"
    }
   ],
   "source": [
    "RF_clf_mean_accuracy = np.mean(cross_val_scores)\n",
    "RF_clf_mean_accuracy"
   ]
  },
  {
   "cell_type": "markdown",
   "id": "5ac8805f",
   "metadata": {},
   "source": [
    "The following is a table summary of the classifiers performance (in terms of accuracy) on the training set:\n",
    "\n",
    "| Classifier | Accuracy Score |\n",
    "| --- | --- |\n",
    "| Stochastic Gradient Descent | 98.40% |\n",
    "| **Perceptron** | **98.64%** |\n",
    "| Decision Tree | 96.12% |\n",
    "| Logistic Regression | 98.22% |\n",
    "| KNearestNeighbor (N=3)| 79.46% |\n",
    "| Random Forest | 98.13% |"
   ]
  },
  {
   "cell_type": "markdown",
   "id": "804a9deb",
   "metadata": {},
   "source": [
    "## 6. Confusion Matrix"
   ]
  },
  {
   "cell_type": "markdown",
   "id": "e5006107",
   "metadata": {},
   "source": [
    "Aside from *accuracy*, there are other ways to measure the performance of a classifier.\n",
    "\n",
    "In scikit-learn, the confusion matrix is organized as such:\n",
    "\n",
    "| TN | FP |\n",
    "| --- | --- |\n",
    "| FN | TP |\n",
    "\n",
    "\n",
    "The idea of a confusion matrix is to count the number of times instances of class A are classified as class B, for all A/B.\n",
    "\n",
    "To compute the confusion matrix, we first need to have a set of predictions so that they can be compared to the actual targets. We can make predictions on the test test, but we wish to keep it untouched until we evaluate our models on it. The solution is to use *cross_val_predict()*.\n",
    "\n",
    "The following are the steps to generate the confusion matrix that results from the stochastic gradient descent model:"
   ]
  },
  {
   "cell_type": "code",
   "execution_count": 23,
   "id": "5a6ec6d6",
   "metadata": {},
   "outputs": [],
   "source": [
    "from sklearn.model_selection import cross_val_predict\n",
    "\n",
    "y_train_pred = cross_val_predict(sgd_clf, X_train_transformed, y_train, cv=3)"
   ]
  },
  {
   "cell_type": "markdown",
   "id": "c2287a77",
   "metadata": {},
   "source": [
    "*cross_val_predict()* performs k-fold cross-validation; it returns the predictions made on each test fold insttead of returning the evaluation scores. Therefore, we get an *out-of-sample* (i.e., the model makes predictions on data that it has never seen during training) predictions for each instance in the training set.\n",
    "\n",
    "Now, we can get the confusion matrix using the *confusion_matrix()* function:"
   ]
  },
  {
   "cell_type": "code",
   "execution_count": 24,
   "id": "4ef4e7d6",
   "metadata": {},
   "outputs": [
    {
     "data": {
      "text/plain": [
       "array([[30644,   890],\n",
       "       [  181, 35043]], dtype=int64)"
      ]
     },
     "execution_count": 24,
     "metadata": {},
     "output_type": "execute_result"
    }
   ],
   "source": [
    "from sklearn.metrics import confusion_matrix\n",
    "sgd_CM = confusion_matrix(y_train, y_train_pred, labels=[0, 1])\n",
    "sgd_CM"
   ]
  },
  {
   "cell_type": "markdown",
   "id": "489b44f2",
   "metadata": {},
   "source": [
    "**Recall:**\n",
    "- '1' indicates that the email is classified as spam (positive = spam). \n",
    "- '0' denotes that the email is legitimate (negative = non-spam)."
   ]
  },
  {
   "cell_type": "markdown",
   "id": "ecd382c2",
   "metadata": {},
   "source": [
    "The rows of the confusion matrix resemble an *actual class*, while the columns resemble a *predicted class*.\n",
    "\n",
    "The first row considers the *negative class* (non-spam, because its label is 0): 30,667 were correctly classified as not spam, while the remaining 883 were wrongle classified as not spam.\n",
    "\n",
    "The second row considers the *positive class* (spam): 204 were wrongly classified as spam, while the remaining 35,004 were correcrly classified as spam."
   ]
  },
  {
   "cell_type": "markdown",
   "id": "4d6fe828",
   "metadata": {},
   "source": [
    "If we wish to make spams as negative and non-spam as positive, we would have to reverse the order of the labels' array:"
   ]
  },
  {
   "cell_type": "code",
   "execution_count": 25,
   "id": "699b16a4",
   "metadata": {},
   "outputs": [
    {
     "data": {
      "text/plain": [
       "array([[35043,   181],\n",
       "       [  890, 30644]], dtype=int64)"
      ]
     },
     "execution_count": 25,
     "metadata": {},
     "output_type": "execute_result"
    }
   ],
   "source": [
    "from sklearn.metrics import confusion_matrix\n",
    "sgd_CM = confusion_matrix(y_train, y_train_pred, labels=[1, 0])\n",
    "sgd_CM"
   ]
  },
  {
   "cell_type": "markdown",
   "id": "3a1e02cc",
   "metadata": {},
   "source": [
    "Therefore, in our dataset, we have:\n",
    "   1. True Negative (TN): A non-spam correctly classified as non-spam.\n",
    "   2. False Negative (FN): A spam wrongly classified as a non-spam.\n",
    "   3. False Positive (FP): A non-spam wrongly classified as a spam.\n",
    "   4. True Positive (TP): A spam correctly classified as a spam."
   ]
  },
  {
   "cell_type": "markdown",
   "id": "a0977715",
   "metadata": {},
   "source": [
    "## 7. Precision"
   ]
  },
  {
   "cell_type": "markdown",
   "id": "f32ecccd",
   "metadata": {},
   "source": [
    "Precision is often seen as a measure of 'quality.' It is the fraction of the relevant instances amoing the retrieved instances:\n",
    "\n",
    "$$\n",
    "    precision = \\frac{TP}{TP + FP}\\\n",
    "$$\n",
    "\n",
    "High precision means that an algorithm returns more relevant results than irrelevant ones."
   ]
  },
  {
   "cell_type": "code",
   "execution_count": 26,
   "id": "dbd1d858",
   "metadata": {},
   "outputs": [
    {
     "name": "stdout",
     "output_type": "stream",
     "text": [
      "0.9752316811844266\n"
     ]
    }
   ],
   "source": [
    "from sklearn.metrics import precision_score\n",
    "\n",
    "print(precision_score(y_train, y_train_pred))"
   ]
  },
  {
   "cell_type": "markdown",
   "id": "1eb1ce0c",
   "metadata": {},
   "source": [
    "When our *Stochastic Gradient Descent* model claims an image is classified as a spam, it is correct 97.5% of the time. "
   ]
  },
  {
   "cell_type": "markdown",
   "id": "80f53355",
   "metadata": {},
   "source": [
    "## 8. Recall"
   ]
  },
  {
   "cell_type": "markdown",
   "id": "a0e62d32",
   "metadata": {},
   "source": [
    "Recall is often seen as a measure of 'quantity'. It is the fraction of relevant instances that were retrieved.\n",
    "\n",
    "$$\n",
    "Recall = \\frac{TP}{TP + FN}\\\n",
    "$$\n",
    "\n",
    "High recall means that an algorithm returns most of the relevant results (whether or not irrelevant ones are also returned)."
   ]
  },
  {
   "cell_type": "code",
   "execution_count": 27,
   "id": "6b5d9c96",
   "metadata": {},
   "outputs": [
    {
     "name": "stdout",
     "output_type": "stream",
     "text": [
      "0.9948614580967522\n"
     ]
    }
   ],
   "source": [
    "from sklearn.metrics import recall_score\n",
    "\n",
    "print(recall_score(y_train, y_train_pred))"
   ]
  },
  {
   "cell_type": "code",
   "execution_count": 28,
   "id": "40b1d6ab",
   "metadata": {},
   "outputs": [
    {
     "name": "stdout",
     "output_type": "stream",
     "text": [
      "0.9948614580967522\n"
     ]
    }
   ],
   "source": [
    "print(recall_score(y_train, y_train_pred))"
   ]
  },
  {
   "cell_type": "markdown",
   "id": "5940e3f8",
   "metadata": {},
   "source": [
    "Our *Stochastic Gradient Descent* model detects 99.4% of the spam emails."
   ]
  },
  {
   "cell_type": "markdown",
   "id": "e2cb2252",
   "metadata": {},
   "source": [
    "## 9. The F1 Score"
   ]
  },
  {
   "cell_type": "markdown",
   "id": "364c00aa",
   "metadata": {},
   "source": [
    "The F1 score combines precision and recall into a single metric. This is especially useful when we need a single metric to compare two classifiers. The F1 score is the *harmonic mean* of precision and recall. The regular mean treats all values equally, but the harmonic mean gives much more weight to low values. This means that the classifier will only get a high F1 score if both recall and precision are high:\n",
    "\n",
    "$$\n",
    "F_1 = 2 \\cdot \\frac{precision \\cdot recall}{precision + recall}\n",
    "$$\n",
    "\n",
    "To compute the F1 score, we call the *f1_score()* function:"
   ]
  },
  {
   "cell_type": "code",
   "execution_count": 29,
   "id": "78fe9aed",
   "metadata": {},
   "outputs": [
    {
     "data": {
      "text/plain": [
       "0.9849487752434757"
      ]
     },
     "execution_count": 29,
     "metadata": {},
     "output_type": "execute_result"
    }
   ],
   "source": [
    "from sklearn.metrics import f1_score\n",
    "f1_score(y_train, y_train_pred)"
   ]
  },
  {
   "cell_type": "markdown",
   "id": "1100ae2c",
   "metadata": {},
   "source": [
    "## 10. The ROC Curve"
   ]
  },
  {
   "cell_type": "markdown",
   "id": "f090d479",
   "metadata": {},
   "source": [
    "The *receiver operating characteristics* (ROC) curve is a common tool used with binary classifiers. The ROC curve plots the *true positive rate* (recall) against the *false positive rate* (fall-out). The later is the ratio of negative instances that are incorrectly classified as positive and is equal to 1 - the *true negative rate*.\n",
    "\n",
    "The *true negative rate* (specificity) is the ratio of negative instances that are correctly classified as negative."
   ]
  },
  {
   "cell_type": "markdown",
   "id": "fd2bb922",
   "metadata": {},
   "source": [
    "First, we will need the decision scores that were used to make predictions. These can be obtained via the *decision_function()* method; it returns a score for each instance:"
   ]
  },
  {
   "cell_type": "code",
   "execution_count": 30,
   "id": "5002ce30",
   "metadata": {},
   "outputs": [],
   "source": [
    "y_scores = cross_val_predict(sgd_clf, X_train_transformed, y_train, cv=3, n_jobs=-1, method=\"decision_function\")"
   ]
  },
  {
   "cell_type": "markdown",
   "id": "21a50f12",
   "metadata": {},
   "source": [
    "We will also have to get the precision and recall for all possible thresholds. This can be done via the *precision_recall_curve()* method: "
   ]
  },
  {
   "cell_type": "code",
   "execution_count": 31,
   "id": "8a7a3bb0",
   "metadata": {},
   "outputs": [],
   "source": [
    "from sklearn.metrics import precision_recall_curve\n",
    "\n",
    "precisions_sgd, recalls_sgd, thresholds_sgd = precision_recall_curve(y_train, y_scores)"
   ]
  },
  {
   "cell_type": "code",
   "execution_count": 32,
   "id": "e14ab234",
   "metadata": {},
   "outputs": [
    {
     "data": {
      "text/plain": [
       "-0.7570301898716478"
      ]
     },
     "execution_count": 32,
     "metadata": {},
     "output_type": "execute_result"
    }
   ],
   "source": [
    "idx_for_90_precision_sgd = (precisions_sgd >= 0.90).argmax()\n",
    "threshold_for_90_precision_sgd = thresholds_sgd[idx_for_90_precision_sgd]\n",
    "threshold_for_90_precision_sgd"
   ]
  },
  {
   "cell_type": "markdown",
   "id": "969f99ff",
   "metadata": {},
   "source": [
    "Now, we have all the ingredients to plot the ROC curve."
   ]
  },
  {
   "cell_type": "code",
   "execution_count": 33,
   "id": "35c70f29",
   "metadata": {},
   "outputs": [],
   "source": [
    "from sklearn.metrics import roc_curve\n",
    "\n",
    "fpr_sgd, tpr_sgd, thresholds_sgd = roc_curve(y_train, y_scores)"
   ]
  },
  {
   "cell_type": "code",
   "execution_count": 34,
   "id": "ffb9654c",
   "metadata": {},
   "outputs": [
    {
     "data": {
      "image/png": "[encoded data removed]",
      "text/plain": [
       "<Figure size 600x500 with 1 Axes>"
      ]
     },
     "metadata": {},
     "output_type": "display_data"
    }
   ],
   "source": [
    "import matplotlib.pyplot as plt\n",
    "import matplotlib.patches as patches\n",
    "\n",
    "idx_for_threshold_at_90_sgd = (thresholds_sgd <= threshold_for_90_precision_sgd).argmax()\n",
    "tpr_90_sgd, fpr_90_sgd = tpr_sgd[idx_for_threshold_at_90_sgd], fpr_sgd[idx_for_threshold_at_90_sgd]\n",
    "\n",
    "plt.figure(figsize=(6, 5)) \n",
    "plt.plot(fpr_sgd, tpr_sgd, linewidth=2, label=\"ROC curve\")\n",
    "plt.plot([0, 1], [0, 1], 'k:', label=\"Random classifier's ROC curve\")\n",
    "plt.plot([fpr_90_sgd], [tpr_90_sgd], \"ko\", label=\"Threshold for 90% precision\")\n",
    "\n",
    "plt.gca().add_patch(patches.FancyArrowPatch(\n",
    "    (0.20, 0.89), (0.07, 0.70),\n",
    "    connectionstyle=\"arc3,rad=.4\",\n",
    "    arrowstyle=\"Simple, tail_width=1.5, head_width=8, head_length=10\",\n",
    "    color=\"#444444\"))\n",
    "plt.text(0.12, 0.71, \"Higher\\nthreshold\", color=\"#333333\")\n",
    "plt.xlabel('False Positive Rate (Fall-Out)')\n",
    "plt.ylabel('True Positive Rate (Recall)')\n",
    "plt.grid()\n",
    "plt.axis([0, 1, 0, 1])\n",
    "plt.legend(loc=\"lower right\", fontsize=13)\n",
    "\n",
    "plt.show()"
   ]
  },
  {
   "cell_type": "markdown",
   "id": "c87e0de5",
   "metadata": {},
   "source": [
    "##  11. Area Under the Curve"
   ]
  },
  {
   "cell_type": "markdown",
   "id": "09776204",
   "metadata": {},
   "source": [
    "One way to cpmpare classifiers is to measure the AUC. A perfect classifier will have a ROC AUC equal to 1, wheras a purely random classifier will have a ROC AUC equal to 0.5. We can estimate the ROC AUC using the *roc_auc_score* method."
   ]
  },
  {
   "cell_type": "code",
   "execution_count": 80,
   "id": "34c2e23a",
   "metadata": {},
   "outputs": [
    {
     "data": {
      "text/plain": [
       "0.9979999061121763"
      ]
     },
     "execution_count": 80,
     "metadata": {},
     "output_type": "execute_result"
    }
   ],
   "source": [
    "from sklearn.metrics import roc_auc_score\n",
    "\n",
    "roc_auc_score(y_train, y_scores)"
   ]
  },
  {
   "cell_type": "markdown",
   "id": "b1389f4a",
   "metadata": {},
   "source": [
    "## 12. Precision/Recall (PR Curve)"
   ]
  },
  {
   "cell_type": "markdown",
   "id": "b915de6a",
   "metadata": {},
   "source": [
    "We prefer to use the PR curve whenever the positive class is rare or when we care more about the falso positives than the false negatives.\n",
    "\n",
    "We have:\n",
    "\n",
    "   1. False Negative (FN): A spam wrongly classified as a non-spam.\n",
    "   2. False Positive (FP): A non-spam wrongly classified as a spam.\n",
    "   \n",
    "So we care more if an important email (non-spam) gets classified as a spam than if a spam gets classified as a legitimate email.\n",
    "\n",
    "The *precision_recall_curve()* function expects labels and scores for each insrance, so we need to train the classifier and make it assign a score to each instance.\n",
    "\n",
    "Some classifiers, such the *RandomForestClassifier*, do not have a *decision,_function()* method. Such classifiers have a *predict_proba()* method that returns class prbabilities for each instance, and we can just use the probability of the positive class as a score, so it will work fine."
   ]
  },
  {
   "cell_type": "code",
   "execution_count": 38,
   "id": "b754e56d",
   "metadata": {},
   "outputs": [
    {
     "data": {
      "image/png": "[encoded data removed]",
      "text/plain": [
       "<Figure size 600x500 with 1 Axes>"
      ]
     },
     "metadata": {},
     "output_type": "display_data"
    }
   ],
   "source": [
    "from sklearn.metrics import precision_recall_curve\n",
    "from sklearn.model_selection import cross_val_predict\n",
    "import matplotlib.pyplot as plt\n",
    "\n",
    "# SGD\n",
    "y_scores_sgd = cross_val_predict(sgd_clf, X_train_transformed, y_train, cv=3, method=\"decision_function\")\n",
    "precisions_sgd, recalls_sgd, _ = precision_recall_curve(y_train, y_scores_sgd)\n",
    "\n",
    "# Perceptron\n",
    "y_scores_perceptron = cross_val_predict(perceptron_clf, X_train_transformed, y_train, cv=3, method=\"decision_function\")\n",
    "precisions_perceptron, recalls_perceptron, _ = precision_recall_curve(y_train, y_scores_perceptron)\n",
    "\n",
    "# Random Forest\n",
    "y_probas_RF = cross_val_predict(RF_clf, X_train_transformed, y_train, cv=3, method=\"predict_proba\")\n",
    "y_scores_RF = y_probas_RF[:, 1]   # second column of predict_probas contains the estimated probabilities of the positive class\n",
    "precisions_RF, recalls_RF, _ = precision_recall_curve(y_train, y_scores_RF)\n",
    "\n",
    "# Logistic Regression\n",
    "y_probas_logreg = cross_val_predict(logreg_clf, X_train_transformed, y_train, cv=3, method=\"predict_proba\")\n",
    "y_scores_logreg = y_probas_logreg[:, 1]\n",
    "precisions_logreg, recalls_logreg, _ = precision_recall_curve(y_train, y_scores_logreg)\n",
    "\n",
    "# Decision Tree\n",
    "y_probas_dt = cross_val_predict(dt_clf, X_train_transformed, y_train, cv=3, method=\"predict_proba\")\n",
    "y_scores_dt = y_probas_dt[:, 1]\n",
    "precisions_dt, recalls_dt, _ = precision_recall_curve(y_train, y_scores_dt)\n",
    "\n",
    "# 3-NN\n",
    "y_probas_KNN = cross_val_predict(KNN_clf, X_train_transformed, y_train, cv=3, method=\"predict_proba\")\n",
    "y_scores_KNN = y_probas_KNN[:, 1]\n",
    "precisions_KNN, recalls_KNN, _ = precision_recall_curve(y_train, y_scores_KNN)\n",
    "\n",
    "# Plot dimensions\n",
    "plt.figure(figsize=(6, 5))\n",
    "\n",
    "# Plot the classifiers\n",
    "plt.plot(recalls_sgd, precisions_sgd, \"--\", linewidth=2, label=\"SGD\")\n",
    "plt.plot(recalls_perceptron, precisions_perceptron, \"-\", linewidth=2, label=\"PERCEPTRON\")\n",
    "plt.plot(recalls_RF, precisions_RF, \":\", linewidth=2, label=\"RF\")\n",
    "plt.plot(recalls_logreg, precisions_logreg, \"r-\", linewidth=2, label=\"LogReg\")\n",
    "plt.plot(recalls_dt, precisions_dt, \"b:\", linewidth=2, label=\"DT\")\n",
    "plt.plot(recalls_KNN, precisions_KNN, \"g--\", linewidth=2, label=\"KNN\")\n",
    "\n",
    "# Make the plot look beautiful\n",
    "plt.xlabel(\"Recall\")\n",
    "plt.ylabel(\"Precision\")\n",
    "plt.axis([0, 1, 0, 1])\n",
    "plt.grid()\n",
    "plt.legend(loc=\"lower left\")\n",
    "\n",
    "# Display the plot\n",
    "plt.show()"
   ]
  },
  {
   "cell_type": "markdown",
   "id": "6e1d45b6",
   "metadata": {},
   "source": [
    "## 13. Performance on the Testing Set"
   ]
  },
  {
   "cell_type": "markdown",
   "id": "d4960a21",
   "metadata": {},
   "source": [
    "### Accuracy"
   ]
  },
  {
   "cell_type": "markdown",
   "id": "0af4a67d",
   "metadata": {},
   "source": [
    "**Common Error:** Using\n",
    "* *X_test_transformed = pipeline.**fit_transform**(X_test)*, instead of\n",
    "* *X_test_transformed = pipeline.**transform**(X_test)*\n",
    "\n",
    "When you use pipeline.fit_transform(X_test), you are actually fitting the pipeline on the testing data, which is incorrect. The correct approach is to use pipeline.transform(X_test) to transform the testing data based on the transformations learned from the training data. Here's the corrected code:"
   ]
  },
  {
   "cell_type": "code",
   "execution_count": 39,
   "id": "1ead7d85",
   "metadata": {},
   "outputs": [],
   "source": [
    "sgd_model = sgd_clf.fit(X_train_transformed, y_train)\n",
    "\n",
    "X_test_transformed = pipeline.transform(X_test)\n",
    "final_predictions = sgd_model.predict(X_test_transformed)"
   ]
  },
  {
   "cell_type": "code",
   "execution_count": 40,
   "id": "801ec570",
   "metadata": {},
   "outputs": [
    {
     "data": {
      "text/plain": [
       "array([1, 0, 0, ..., 0, 0, 1], dtype=int64)"
      ]
     },
     "execution_count": 40,
     "metadata": {},
     "output_type": "execute_result"
    }
   ],
   "source": [
    "final_predictions"
   ]
  },
  {
   "cell_type": "code",
   "execution_count": 41,
   "id": "f9551a6e",
   "metadata": {},
   "outputs": [
    {
     "name": "stdout",
     "output_type": "stream",
     "text": [
      "Accuracy: 0.9844218094667465\n"
     ]
    }
   ],
   "source": [
    "from sklearn.metrics import accuracy_score\n",
    "\n",
    "accuracy = accuracy_score(y_test, final_predictions)\n",
    "print(f\"Accuracy: {accuracy}\")"
   ]
  }
 ],
 "metadata": {
  "kernelspec": {
   "display_name": "Python 3 (ipykernel)",
   "language": "python",
   "name": "python3"
  },
  "language_info": {
   "codemirror_mode": {
    "name": "ipython",
    "version": 3
   },
   "file_extension": ".py",
   "mimetype": "text/x-python",
   "name": "python",
   "nbconvert_exporter": "python",
   "pygments_lexer": "ipython3",
   "version": "3.11.4"
  }
 },
 "nbformat": 4,
 "nbformat_minor": 5
}
